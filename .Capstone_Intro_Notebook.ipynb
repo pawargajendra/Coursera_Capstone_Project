{
    "cells": [
        {
            "metadata": {},
            "cell_type": "code",
            "source": "!wget -O Cust_Segmentation.csv https://s3-api.us-geo.objectstorage.softlayer.net/cf-courses-data/CognitiveClass/ML0101ENv3/labs/Cust_Segmentation.csv\n",
            "execution_count": 5,
            "outputs": [
                {
                    "output_type": "stream",
                    "text": "--2020-01-25 11:03:05--  https://s3-api.us-geo.objectstorage.softlayer.net/cf-courses-data/CognitiveClass/ML0101ENv3/labs/Cust_Segmentation.csv\nResolving s3-api.us-geo.objectstorage.softlayer.net (s3-api.us-geo.objectstorage.softlayer.net)... 67.228.254.196\nConnecting to s3-api.us-geo.objectstorage.softlayer.net (s3-api.us-geo.objectstorage.softlayer.net)|67.228.254.196|:443... connected.\nHTTP request sent, awaiting response... 200 OK\nLength: 34276 (33K) [text/csv]\nSaving to: \u2018Cust_Segmentation.csv\u2019\n\n100%[======================================>] 34,276      --.-K/s   in 0.002s  \n\n2020-01-25 11:03:05 (15.3 MB/s) - \u2018Cust_Segmentation.csv\u2019 saved [34276/34276]\n\n",
                    "name": "stdout"
                }
            ]
        },
        {
            "metadata": {},
            "cell_type": "code",
            "source": "import pandas as pd",
            "execution_count": 6,
            "outputs": []
        },
        {
            "metadata": {},
            "cell_type": "code",
            "source": "Data=pd.read_csv(\"Cust_Segmentation.csv\")\n",
            "execution_count": 8,
            "outputs": []
        },
        {
            "metadata": {},
            "cell_type": "code",
            "source": "Data.head()",
            "execution_count": 9,
            "outputs": [
                {
                    "output_type": "execute_result",
                    "execution_count": 9,
                    "data": {
                        "text/plain": "   Customer Id  Age  Edu  Years Employed  Income  Card Debt  Other Debt  \\\n0            1   41    2               6      19      0.124       1.073   \n1            2   47    1              26     100      4.582       8.218   \n2            3   33    2              10      57      6.111       5.802   \n3            4   29    2               4      19      0.681       0.516   \n4            5   47    1              31     253      9.308       8.908   \n\n   Defaulted Address  DebtIncomeRatio  \n0        0.0  NBA001              6.3  \n1        0.0  NBA021             12.8  \n2        1.0  NBA013             20.9  \n3        0.0  NBA009              6.3  \n4        0.0  NBA008              7.2  ",
                        "text/html": "<div>\n<style scoped>\n    .dataframe tbody tr th:only-of-type {\n        vertical-align: middle;\n    }\n\n    .dataframe tbody tr th {\n        vertical-align: top;\n    }\n\n    .dataframe thead th {\n        text-align: right;\n    }\n</style>\n<table border=\"1\" class=\"dataframe\">\n  <thead>\n    <tr style=\"text-align: right;\">\n      <th></th>\n      <th>Customer Id</th>\n      <th>Age</th>\n      <th>Edu</th>\n      <th>Years Employed</th>\n      <th>Income</th>\n      <th>Card Debt</th>\n      <th>Other Debt</th>\n      <th>Defaulted</th>\n      <th>Address</th>\n      <th>DebtIncomeRatio</th>\n    </tr>\n  </thead>\n  <tbody>\n    <tr>\n      <th>0</th>\n      <td>1</td>\n      <td>41</td>\n      <td>2</td>\n      <td>6</td>\n      <td>19</td>\n      <td>0.124</td>\n      <td>1.073</td>\n      <td>0.0</td>\n      <td>NBA001</td>\n      <td>6.3</td>\n    </tr>\n    <tr>\n      <th>1</th>\n      <td>2</td>\n      <td>47</td>\n      <td>1</td>\n      <td>26</td>\n      <td>100</td>\n      <td>4.582</td>\n      <td>8.218</td>\n      <td>0.0</td>\n      <td>NBA021</td>\n      <td>12.8</td>\n    </tr>\n    <tr>\n      <th>2</th>\n      <td>3</td>\n      <td>33</td>\n      <td>2</td>\n      <td>10</td>\n      <td>57</td>\n      <td>6.111</td>\n      <td>5.802</td>\n      <td>1.0</td>\n      <td>NBA013</td>\n      <td>20.9</td>\n    </tr>\n    <tr>\n      <th>3</th>\n      <td>4</td>\n      <td>29</td>\n      <td>2</td>\n      <td>4</td>\n      <td>19</td>\n      <td>0.681</td>\n      <td>0.516</td>\n      <td>0.0</td>\n      <td>NBA009</td>\n      <td>6.3</td>\n    </tr>\n    <tr>\n      <th>4</th>\n      <td>5</td>\n      <td>47</td>\n      <td>1</td>\n      <td>31</td>\n      <td>253</td>\n      <td>9.308</td>\n      <td>8.908</td>\n      <td>0.0</td>\n      <td>NBA008</td>\n      <td>7.2</td>\n    </tr>\n  </tbody>\n</table>\n</div>"
                    },
                    "metadata": {}
                }
            ]
        },
        {
            "metadata": {},
            "cell_type": "code",
            "source": "#As you can see address is categorical variable so we will have to remove it\nData1 = Data.drop('Address', axis=1)\nData1.head()\na = Data1[['Age','Edu','Years Employed','Income','Card Debt','Other Debt','DebtIncomeRatio']] .values  #.astype(float)\na",
            "execution_count": 10,
            "outputs": [
                {
                    "output_type": "execute_result",
                    "execution_count": 10,
                    "data": {
                        "text/plain": "array([[41.   ,  2.   ,  6.   , ...,  0.124,  1.073,  6.3  ],\n       [47.   ,  1.   , 26.   , ...,  4.582,  8.218, 12.8  ],\n       [33.   ,  2.   , 10.   , ...,  6.111,  5.802, 20.9  ],\n       ...,\n       [25.   ,  4.   ,  0.   , ...,  2.802,  3.21 , 33.4  ],\n       [32.   ,  1.   , 12.   , ...,  0.116,  0.696,  2.9  ],\n       [52.   ,  1.   , 16.   , ...,  1.866,  3.638,  8.6  ]])"
                    },
                    "metadata": {}
                }
            ]
        },
        {
            "metadata": {},
            "cell_type": "code",
            "source": "y = Data1['Defaulted'].values\ny[0:10]",
            "execution_count": 11,
            "outputs": [
                {
                    "output_type": "execute_result",
                    "execution_count": 11,
                    "data": {
                        "text/plain": "array([ 0.,  0.,  1.,  0.,  0., nan,  0.,  0., nan,  0.])"
                    },
                    "metadata": {}
                }
            ]
        },
        {
            "metadata": {},
            "cell_type": "code",
            "source": "# As you ca see there are some Nans present in the defaulted column in the data set so we need to convert it to a numerical value \nimport numpy as np\ny = np.nan_to_num(y)\ny[0:10]",
            "execution_count": 12,
            "outputs": [
                {
                    "output_type": "execute_result",
                    "execution_count": 12,
                    "data": {
                        "text/plain": "array([0., 0., 1., 0., 0., 0., 0., 0., 0., 0.])"
                    },
                    "metadata": {}
                }
            ]
        },
        {
            "metadata": {},
            "cell_type": "code",
            "source": "# Since we are using the different classification models so it is bettrer to normalizing the data set-\nfrom sklearn.preprocessing import StandardScaler\na = np.nan_to_num(a)\nx = StandardScaler().fit_transform(a)",
            "execution_count": 13,
            "outputs": []
        },
        {
            "metadata": {},
            "cell_type": "code",
            "source": "Data1['Defaulted'].value_counts()",
            "execution_count": 14,
            "outputs": [
                {
                    "output_type": "execute_result",
                    "execution_count": 14,
                    "data": {
                        "text/plain": "0.0    517\n1.0    183\nName: Defaulted, dtype: int64"
                    },
                    "metadata": {}
                }
            ]
        },
        {
            "metadata": {},
            "cell_type": "code",
            "source": "#Train and Test Split-\n#We will train our model on the 80% of the data and test it on the rest 20% \nfrom sklearn.model_selection import train_test_split\nx_train, x_test, y_train, y_test = train_test_split( x, y, test_size=0.2, random_state=4)\nprint ('Train set:', x_train.shape,  y_train.shape)\nprint ('Test set:', x_test.shape,  y_test.shape)",
            "execution_count": 20,
            "outputs": [
                {
                    "output_type": "stream",
                    "text": "Train set: (680, 7) (680,)\nTest set: (170, 7) (170,)\n",
                    "name": "stdout"
                }
            ]
        },
        {
            "metadata": {},
            "cell_type": "code",
            "source": "# KNN-\nfrom sklearn.neighbors import KNeighborsClassifier\n# Lets take k=5\nk=5\nknn = KNeighborsClassifier(n_neighbors = k).fit(x_train,y_train) \nknn",
            "execution_count": 21,
            "outputs": [
                {
                    "output_type": "execute_result",
                    "execution_count": 21,
                    "data": {
                        "text/plain": "KNeighborsClassifier(algorithm='auto', leaf_size=30, metric='minkowski',\n           metric_params=None, n_jobs=None, n_neighbors=5, p=2,\n           weights='uniform')"
                    },
                    "metadata": {}
                }
            ]
        },
        {
            "metadata": {},
            "cell_type": "code",
            "source": "yhat = knn.predict(x_test)\nyhat[0:5]",
            "execution_count": 22,
            "outputs": [
                {
                    "output_type": "execute_result",
                    "execution_count": 22,
                    "data": {
                        "text/plain": "array([0., 0., 0., 0., 1.])"
                    },
                    "metadata": {}
                }
            ]
        },
        {
            "metadata": {},
            "cell_type": "code",
            "source": "#Accuracy evaluation\n#jaccard_similarity_score function\nfrom sklearn import metrics\nprint(\"Train set Accuracy: \", metrics.accuracy_score(y_train, knn.predict(x_train)))\nprint(\"Test set Accuracy: \", metrics.accuracy_score(y_test, yhat))",
            "execution_count": 23,
            "outputs": [
                {
                    "output_type": "stream",
                    "text": "Train set Accuracy:  0.8352941176470589\nTest set Accuracy:  0.8235294117647058\n",
                    "name": "stdout"
                }
            ]
        },
        {
            "metadata": {},
            "cell_type": "code",
            "source": "# We can calculate accuracy for different values of K\nks = 10\nmean_acc = np.zeros((ks-1))\nstd_acc = np.zeros((ks-1))\nConfustionMx = [];\nfor n in range(1,ks):\n    \n    #Train Model and Predict  \n    knn = KNeighborsClassifier(n_neighbors = n).fit(x_train,y_train)\n    yhat=knn.predict(x_test)\n    mean_acc[n-1] = metrics.accuracy_score(y_test, yhat)\n\n    \n    std_acc[n-1]=np.std(yhat==y_test)/np.sqrt(yhat.shape[0])\n\nmean_acc",
            "execution_count": 24,
            "outputs": [
                {
                    "output_type": "execute_result",
                    "execution_count": 24,
                    "data": {
                        "text/plain": "array([0.75294118, 0.81176471, 0.79411765, 0.81176471, 0.82352941,\n       0.82941176, 0.82352941, 0.81764706, 0.81176471])"
                    },
                    "metadata": {}
                }
            ]
        },
        {
            "metadata": {},
            "cell_type": "code",
            "source": "#Ploting model accuracy with different value of K\nimport matplotlib.pyplot as plt\nfrom matplotlib.ticker import NullFormatter\nplt.plot(range(1,ks),mean_acc,'g')\nplt.fill_between(range(1,ks),mean_acc - 1 * std_acc,mean_acc + 1 * std_acc, alpha=0.10)\nplt.legend(('Accuracy ', '+/- 3xstd'))\nplt.ylabel('Accuracy ')\nplt.xlabel('Number of Nabors (K)')\nplt.tight_layout()\nplt.show()",
            "execution_count": 26,
            "outputs": [
                {
                    "output_type": "display_data",
                    "data": {
                        "text/plain": "<Figure size 432x288 with 1 Axes>",
                        "image/png": "[encoded data removed]"
                    },
                    "metadata": {
                        "needs_background": "light"
                    }
                }
            ]
        },
        {
            "metadata": {},
            "cell_type": "code",
            "source": "print( \"The best accuracy was with\", mean_acc.max(), \"with k=\", mean_acc.argmax()+1)\n",
            "execution_count": 27,
            "outputs": [
                {
                    "output_type": "stream",
                    "text": "The best accuracy was with 0.8294117647058824 with k= 6\n",
                    "name": "stdout"
                }
            ]
        },
        {
            "metadata": {},
            "cell_type": "code",
            "source": "#Decision Trees_\nfrom sklearn.tree import DecisionTreeClassifier\nDT = DecisionTreeClassifier(criterion=\"entropy\", max_depth = 4)\nDT",
            "execution_count": 28,
            "outputs": [
                {
                    "output_type": "execute_result",
                    "execution_count": 28,
                    "data": {
                        "text/plain": "DecisionTreeClassifier(class_weight=None, criterion='entropy', max_depth=4,\n            max_features=None, max_leaf_nodes=None,\n            min_impurity_decrease=0.0, min_impurity_split=None,\n            min_samples_leaf=1, min_samples_split=2,\n            min_weight_fraction_leaf=0.0, presort=False, random_state=None,\n            splitter='best')"
                    },
                    "metadata": {}
                }
            ]
        },
        {
            "metadata": {},
            "cell_type": "code",
            "source": "DT.fit(x_train,y_train)\nDT",
            "execution_count": 29,
            "outputs": [
                {
                    "output_type": "execute_result",
                    "execution_count": 29,
                    "data": {
                        "text/plain": "DecisionTreeClassifier(class_weight=None, criterion='entropy', max_depth=4,\n            max_features=None, max_leaf_nodes=None,\n            min_impurity_decrease=0.0, min_impurity_split=None,\n            min_samples_leaf=1, min_samples_split=2,\n            min_weight_fraction_leaf=0.0, presort=False, random_state=None,\n            splitter='best')"
                    },
                    "metadata": {}
                }
            ]
        },
        {
            "metadata": {},
            "cell_type": "code",
            "source": "yhat_DT = DT.predict(x_test)\nyhat_DT[0:5]",
            "execution_count": 30,
            "outputs": [
                {
                    "output_type": "execute_result",
                    "execution_count": 30,
                    "data": {
                        "text/plain": "array([0., 0., 0., 0., 0.])"
                    },
                    "metadata": {}
                }
            ]
        },
        {
            "metadata": {},
            "cell_type": "code",
            "source": "y_test[0:5]",
            "execution_count": 31,
            "outputs": [
                {
                    "output_type": "execute_result",
                    "execution_count": 31,
                    "data": {
                        "text/plain": "array([0., 0., 0., 0., 0.])"
                    },
                    "metadata": {}
                }
            ]
        },
        {
            "metadata": {},
            "cell_type": "code",
            "source": "#Accuracy Evaluation\nprint(\"DecisionTrees's Accuracy: \", metrics.accuracy_score(y_test,yhat_DT))",
            "execution_count": 32,
            "outputs": [
                {
                    "output_type": "stream",
                    "text": "DecisionTrees's Accuracy:  0.788235294117647\n",
                    "name": "stdout"
                }
            ]
        },
        {
            "metadata": {},
            "cell_type": "code",
            "source": "# With maximum depth=4 the accuracy is 0.788235294118\n",
            "execution_count": 22,
            "outputs": []
        },
        {
            "metadata": {},
            "cell_type": "code",
            "source": "#Logistic Regression-\n",
            "execution_count": 23,
            "outputs": []
        },
        {
            "metadata": {},
            "cell_type": "code",
            "source": "from sklearn.linear_model import LogisticRegression\nfrom sklearn.metrics import confusion_matrix\nLR = LogisticRegression(C=0.1, solver='liblinear').fit(x_train,y_train)\nLR\n#liblinear is numerical optimizer to find the parameters.\n#C parameter indicates inverse of regularization strength. Regularization is a technique used to solve the overfitting problem. Smaller values of C specify stronger regularization.",
            "execution_count": 33,
            "outputs": [
                {
                    "output_type": "execute_result",
                    "execution_count": 33,
                    "data": {
                        "text/plain": "LogisticRegression(C=0.1, class_weight=None, dual=False, fit_intercept=True,\n          intercept_scaling=1, max_iter=100, multi_class='warn',\n          n_jobs=None, penalty='l2', random_state=None, solver='liblinear',\n          tol=0.0001, verbose=0, warm_start=False)"
                    },
                    "metadata": {}
                }
            ]
        },
        {
            "metadata": {},
            "cell_type": "code",
            "source": "yhat_LR = LR.predict(x_test)\nyhat_LR",
            "execution_count": 36,
            "outputs": [
                {
                    "output_type": "execute_result",
                    "execution_count": 36,
                    "data": {
                        "text/plain": "array([0., 0., 0., 0., 1., 0., 0., 1., 0., 0., 0., 0., 0., 0., 0., 0., 0.,\n       0., 0., 0., 0., 0., 0., 0., 0., 0., 0., 0., 0., 0., 0., 0., 0., 0.,\n       0., 0., 0., 0., 0., 0., 1., 0., 0., 0., 0., 0., 0., 0., 1., 0., 0.,\n       0., 0., 0., 0., 0., 0., 1., 1., 0., 0., 0., 0., 0., 0., 0., 0., 0.,\n       1., 0., 0., 0., 0., 0., 0., 0., 0., 0., 0., 0., 0., 0., 0., 1., 0.,\n       0., 0., 0., 1., 0., 0., 0., 0., 0., 1., 0., 0., 0., 0., 0., 0., 0.,\n       0., 0., 0., 0., 0., 1., 0., 0., 0., 0., 0., 0., 0., 0., 0., 0., 1.,\n       0., 0., 0., 0., 0., 0., 0., 0., 0., 0., 1., 0., 0., 0., 0., 0., 0.,\n       0., 0., 0., 0., 0., 0., 1., 0., 0., 0., 0., 1., 1., 0., 0., 1., 0.,\n       0., 0., 0., 0., 0., 0., 1., 0., 0., 0., 0., 0., 0., 0., 0., 0., 0.])"
                    },
                    "metadata": {}
                }
            ]
        },
        {
            "metadata": {},
            "cell_type": "code",
            "source": "yhat_prob = LR.predict_proba(x_test)\nyhat_prob",
            "execution_count": 38,
            "outputs": [
                {
                    "output_type": "execute_result",
                    "execution_count": 38,
                    "data": {
                        "text/plain": "array([[0.83321874, 0.16678126],\n       [0.93003959, 0.06996041],\n       [0.84748739, 0.15251261],\n       [0.8710534 , 0.1289466 ],\n       [0.26789715, 0.73210285],\n       [0.5623552 , 0.4376448 ],\n       [0.94336225, 0.05663775],\n       [0.43513056, 0.56486944],\n       [0.60769859, 0.39230141],\n       [0.87045965, 0.12954035],\n       [0.86072107, 0.13927893],\n       [0.80456315, 0.19543685],\n       [0.70823453, 0.29176547],\n       [0.77104449, 0.22895551],\n       [0.5282737 , 0.4717263 ],\n       [0.63073983, 0.36926017],\n       [0.95135222, 0.04864778],\n       [0.93350308, 0.06649692],\n       [0.84136448, 0.15863552],\n       [0.66123342, 0.33876658],\n       [0.81429787, 0.18570213],\n       [0.64761423, 0.35238577],\n       [0.83837515, 0.16162485],\n       [0.85672856, 0.14327144],\n       [0.94337942, 0.05662058],\n       [0.64754269, 0.35245731],\n       [0.75548467, 0.24451533],\n       [0.7442643 , 0.2557357 ],\n       [0.71215515, 0.28784485],\n       [0.60217124, 0.39782876],\n       [0.86724654, 0.13275346],\n       [0.74927593, 0.25072407],\n       [0.80768791, 0.19231209],\n       [0.6161895 , 0.3838105 ],\n       [0.92568558, 0.07431442],\n       [0.92341371, 0.07658629],\n       [0.93133847, 0.06866153],\n       [0.69303196, 0.30696804],\n       [0.75625978, 0.24374022],\n       [0.84497279, 0.15502721],\n       [0.21429977, 0.78570023],\n       [0.80474537, 0.19525463],\n       [0.85502217, 0.14497783],\n       [0.64493689, 0.35506311],\n       [0.81042123, 0.18957877],\n       [0.76740282, 0.23259718],\n       [0.70534019, 0.29465981],\n       [0.92048566, 0.07951434],\n       [0.36161992, 0.63838008],\n       [0.76741687, 0.23258313],\n       [0.92610667, 0.07389333],\n       [0.95936282, 0.04063718],\n       [0.74300932, 0.25699068],\n       [0.874637  , 0.125363  ],\n       [0.91676816, 0.08323184],\n       [0.73368555, 0.26631445],\n       [0.71192639, 0.28807361],\n       [0.47219156, 0.52780844],\n       [0.31408306, 0.68591694],\n       [0.96999999, 0.03000001],\n       [0.95761263, 0.04238737],\n       [0.92390334, 0.07609666],\n       [0.96347204, 0.03652796],\n       [0.62800431, 0.37199569],\n       [0.87607275, 0.12392725],\n       [0.75668341, 0.24331659],\n       [0.74064278, 0.25935722],\n       [0.93999117, 0.06000883],\n       [0.41881353, 0.58118647],\n       [0.54553931, 0.45446069],\n       [0.85956587, 0.14043413],\n       [0.97507265, 0.02492735],\n       [0.98203573, 0.01796427],\n       [0.85861781, 0.14138219],\n       [0.64993853, 0.35006147],\n       [0.74558583, 0.25441417],\n       [0.74521264, 0.25478736],\n       [0.90122706, 0.09877294],\n       [0.92380493, 0.07619507],\n       [0.87999278, 0.12000722],\n       [0.63299275, 0.36700725],\n       [0.57044558, 0.42955442],\n       [0.55257453, 0.44742547],\n       [0.15107205, 0.84892795],\n       [0.85698209, 0.14301791],\n       [0.9202422 , 0.0797578 ],\n       [0.53199089, 0.46800911],\n       [0.833069  , 0.166931  ],\n       [0.37195675, 0.62804325],\n       [0.95109162, 0.04890838],\n       [0.64943605, 0.35056395],\n       [0.72764037, 0.27235963],\n       [0.65161549, 0.34838451],\n       [0.7716693 , 0.2283307 ],\n       [0.33548058, 0.66451942],\n       [0.68872579, 0.31127421],\n       [0.81126734, 0.18873266],\n       [0.50804044, 0.49195956],\n       [0.75942331, 0.24057669],\n       [0.85296738, 0.14703262],\n       [0.802656  , 0.197344  ],\n       [0.94035653, 0.05964347],\n       [0.81046325, 0.18953675],\n       [0.7860087 , 0.2139913 ],\n       [0.81465331, 0.18534669],\n       [0.72074733, 0.27925267],\n       [0.82209913, 0.17790087],\n       [0.35722506, 0.64277494],\n       [0.89001283, 0.10998717],\n       [0.71073665, 0.28926335],\n       [0.87133414, 0.12866586],\n       [0.84474039, 0.15525961],\n       [0.8604677 , 0.1395323 ],\n       [0.72583974, 0.27416026],\n       [0.92581621, 0.07418379],\n       [0.90648916, 0.09351084],\n       [0.82438504, 0.17561496],\n       [0.82776022, 0.17223978],\n       [0.4871881 , 0.5128119 ],\n       [0.62521056, 0.37478944],\n       [0.95751186, 0.04248814],\n       [0.6718879 , 0.3281121 ],\n       [0.85512171, 0.14487829],\n       [0.82653859, 0.17346141],\n       [0.90316621, 0.09683379],\n       [0.94821359, 0.05178641],\n       [0.78402363, 0.21597637],\n       [0.88062683, 0.11937317],\n       [0.83809928, 0.16190072],\n       [0.49199885, 0.50800115],\n       [0.94949756, 0.05050244],\n       [0.88934691, 0.11065309],\n       [0.97430995, 0.02569005],\n       [0.5631484 , 0.4368516 ],\n       [0.88577798, 0.11422202],\n       [0.51233602, 0.48766398],\n       [0.86542068, 0.13457932],\n       [0.69517978, 0.30482022],\n       [0.69558882, 0.30441118],\n       [0.80208806, 0.19791194],\n       [0.77911685, 0.22088315],\n       [0.60864717, 0.39135283],\n       [0.34830302, 0.65169698],\n       [0.90247161, 0.09752839],\n       [0.55162571, 0.44837429],\n       [0.68841768, 0.31158232],\n       [0.88038801, 0.11961199],\n       [0.49086733, 0.50913267],\n       [0.32840638, 0.67159362],\n       [0.81867854, 0.18132146],\n       [0.87147545, 0.12852455],\n       [0.46353067, 0.53646933],\n       [0.54654788, 0.45345212],\n       [0.80847885, 0.19152115],\n       [0.7236189 , 0.2763811 ],\n       [0.78544453, 0.21455547],\n       [0.75770266, 0.24229734],\n       [0.647205  , 0.352795  ],\n       [0.90717868, 0.09282132],\n       [0.47040211, 0.52959789],\n       [0.92159321, 0.07840679],\n       [0.98402216, 0.01597784],\n       [0.81683168, 0.18316832],\n       [0.54005681, 0.45994319],\n       [0.90919802, 0.09080198],\n       [0.96981647, 0.03018353],\n       [0.9437418 , 0.0562582 ],\n       [0.73088566, 0.26911434],\n       [0.65445884, 0.34554116],\n       [0.83889706, 0.16110294]])"
                    },
                    "metadata": {}
                }
            ]
        },
        {
            "metadata": {},
            "cell_type": "code",
            "source": "#The first column is the probability of class 1, P(Y=1|X), and second column is probability of class 0, P(Y=0|X)\n",
            "execution_count": 27,
            "outputs": []
        },
        {
            "metadata": {},
            "cell_type": "code",
            "source": "#Jaccard Index\nfrom sklearn.metrics import jaccard_similarity_score\njaccard_similarity_score(y_test, yhat_LR)",
            "execution_count": 39,
            "outputs": [
                {
                    "output_type": "execute_result",
                    "execution_count": 39,
                    "data": {
                        "text/plain": "0.8352941176470589"
                    },
                    "metadata": {}
                }
            ]
        },
        {
            "metadata": {},
            "cell_type": "code",
            "source": "from sklearn.metrics import classification_report, confusion_matrix\nimport itertools\ndef plot_confusion_matrix(cm, classes,\n                          normalize=False,\n                          title='Confusion matrix',\n                          cmap=plt.cm.Blues):\n    \"\"\"\n    This function prints and plots the confusion matrix.\n    Normalization can be applied by setting `normalize=True`.\n    \"\"\"\n    if normalize:\n        cm = cm.astype('float') / cm.sum(axis=1)[:, np.newaxis]\n        print(\"Normalized confusion matrix\")\n    else:\n        print('Confusion matrix, without normalization')\n\n    print(cm)\n\n    plt.imshow(cm, interpolation='nearest', cmap=cmap)\n    plt.title(title)\n    plt.colorbar()\n    tick_marks = np.arange(len(classes))\n    plt.xticks(tick_marks, classes, rotation=45)\n    plt.yticks(tick_marks, classes)\n\n    fmt = '.2f' if normalize else 'd'\n    thresh = cm.max() / 2.\n    for i, j in itertools.product(range(cm.shape[0]), range(cm.shape[1])):\n        plt.text(j, i, format(cm[i, j], fmt),\n                 horizontalalignment=\"center\",\n                 color=\"white\" if cm[i, j] > thresh else \"black\")\n\n    plt.tight_layout()\n    plt.ylabel('True label')\n    plt.xlabel('Predicted label')\nprint(confusion_matrix(y_test, yhat_LR, labels=[1,0]))\n",
            "execution_count": 40,
            "outputs": [
                {
                    "output_type": "stream",
                    "text": "[[  9  19]\n [  9 133]]\n",
                    "name": "stdout"
                }
            ]
        },
        {
            "metadata": {},
            "cell_type": "code",
            "source": "# Compute confusion matrix\ncnf_matrix = confusion_matrix(y_test, yhat_LR, labels=[1,0])\nnp.set_printoptions(precision=2)\n\n\n# Plot non-normalized confusion matrix\nplt.figure()\nplot_confusion_matrix(cnf_matrix, classes=['1','0'],normalize= False,  title='Confusion matrix')",
            "execution_count": 41,
            "outputs": [
                {
                    "output_type": "stream",
                    "text": "Confusion matrix, without normalization\n[[  9  19]\n [  9 133]]\n",
                    "name": "stdout"
                },
                {
                    "output_type": "display_data",
                    "data": {
                        "text/plain": "<Figure size 432x288 with 2 Axes>",
                        "image/png": "[encoded data removed]"
                    },
                    "metadata": {
                        "needs_background": "light"
                    }
                }
            ]
        },
        {
            "metadata": {},
            "cell_type": "code",
            "source": "# F1 Score\nfrom sklearn.metrics import classification_report\nprint (classification_report(y_test, yhat_LR))",
            "execution_count": 42,
            "outputs": [
                {
                    "output_type": "stream",
                    "text": "              precision    recall  f1-score   support\n\n         0.0       0.88      0.94      0.90       142\n         1.0       0.50      0.32      0.39        28\n\n   micro avg       0.84      0.84      0.84       170\n   macro avg       0.69      0.63      0.65       170\nweighted avg       0.81      0.84      0.82       170\n\n",
                    "name": "stdout"
                }
            ]
        },
        {
            "metadata": {},
            "cell_type": "code",
            "source": "#Precision is a measure of the accuracy provided that a class label has been predicted. It is defined by: precision = TP / (TP + FP)#\n#Recall is true positive rate. It is defined as: Recall = TP / (TP + FN)\n#F1 score is the harmonic average of the precision and recall.\n#F1-score for both labels-> 0.79. But for label 1 f1 score is very less which is very much evident by the confusion matrix.",
            "execution_count": 32,
            "outputs": []
        },
        {
            "metadata": {},
            "cell_type": "code",
            "source": "#Log Loss\nfrom sklearn.metrics import log_loss\nlog_loss(y_test, yhat_prob)",
            "execution_count": 43,
            "outputs": [
                {
                    "output_type": "execute_result",
                    "execution_count": 43,
                    "data": {
                        "text/plain": "0.40467004499098275"
                    },
                    "metadata": {}
                }
            ]
        },
        {
            "metadata": {},
            "cell_type": "code",
            "source": "#We will perform the same analysis again by using different numerical optimizer to see whether we get lower value of log loss or not. For example 'newton-cg'.\nLR = LogisticRegression(C=0.1, solver='newton-cg').fit(x_train,y_train)\nLR\nfrom sklearn.metrics import jaccard_similarity_score\njaccard_similarity_score(y_test, yhat_LR)\nyhat_prob = LR.predict_proba(x_test)\nyhat_LR = LR.predict(x_test)",
            "execution_count": 44,
            "outputs": []
        },
        {
            "metadata": {},
            "cell_type": "code",
            "source": "from sklearn.metrics import classification_report\nprint (classification_report(y_test, yhat_LR))",
            "execution_count": 45,
            "outputs": [
                {
                    "output_type": "stream",
                    "text": "              precision    recall  f1-score   support\n\n         0.0       0.86      0.94      0.90       142\n         1.0       0.47      0.25      0.33        28\n\n   micro avg       0.83      0.83      0.83       170\n   macro avg       0.67      0.60      0.61       170\nweighted avg       0.80      0.83      0.81       170\n\n",
                    "name": "stdout"
                }
            ]
        },
        {
            "metadata": {},
            "cell_type": "code",
            "source": "#Log Loss\nfrom sklearn.metrics import log_loss\nlog_loss(y_test, yhat_prob)",
            "execution_count": 46,
            "outputs": [
                {
                    "output_type": "execute_result",
                    "execution_count": 46,
                    "data": {
                        "text/plain": "0.39291713877698137"
                    },
                    "metadata": {}
                }
            ]
        },
        {
            "metadata": {},
            "cell_type": "code",
            "source": "# We get lower value of the log loss by using 'newton-cg' instead of 'liblinear'",
            "execution_count": 37,
            "outputs": []
        },
        {
            "metadata": {},
            "cell_type": "code",
            "source": "#Support Vector Machine-",
            "execution_count": 38,
            "outputs": []
        },
        {
            "metadata": {},
            "cell_type": "code",
            "source": "from sklearn import svm\n#We are using linear kernal function\nSvm = svm.SVC(kernel='linear')\nSvm.fit(x_train, y_train)",
            "execution_count": 47,
            "outputs": [
                {
                    "output_type": "execute_result",
                    "execution_count": 47,
                    "data": {
                        "text/plain": "SVC(C=1.0, cache_size=200, class_weight=None, coef0=0.0,\n  decision_function_shape='ovr', degree=3, gamma='auto_deprecated',\n  kernel='linear', max_iter=-1, probability=False, random_state=None,\n  shrinking=True, tol=0.001, verbose=False)"
                    },
                    "metadata": {}
                }
            ]
        },
        {
            "metadata": {},
            "cell_type": "code",
            "source": "yhat_svm = Svm.predict(x_test)\nyhat_svm [0:5]",
            "execution_count": 48,
            "outputs": [
                {
                    "output_type": "execute_result",
                    "execution_count": 48,
                    "data": {
                        "text/plain": "array([0., 0., 0., 0., 1.])"
                    },
                    "metadata": {}
                }
            ]
        },
        {
            "metadata": {},
            "cell_type": "code",
            "source": "#Accuracy Evaluation\ndef plot_confusion_matrix(cm, classes,\n                          normalize=False,\n                          title='Confusion matrix',\n                          cmap=plt.cm.Blues):\n    \"\"\"\n    This function prints and plots the confusion matrix.\n    Normalization can be applied by setting `normalize=True`.\n    \"\"\"\n    if normalize:\n        cm = cm.astype('float') / cm.sum(axis=1)[:, np.newaxis]\n        print(\"Normalized confusion matrix\")\n    else:\n        print('Confusion matrix, without normalization')\n\n    print(cm)\n\n    plt.imshow(cm, interpolation='nearest', cmap=cmap)\n    plt.title(title)\n    plt.colorbar()\n    tick_marks = np.arange(len(classes))\n    plt.xticks(tick_marks, classes, rotation=45)\n    plt.yticks(tick_marks, classes)\n\n    fmt = '.2f' if normalize else 'd'\n    thresh = cm.max() / 2.\n    for i, j in itertools.product(range(cm.shape[0]), range(cm.shape[1])):\n        plt.text(j, i, format(cm[i, j], fmt),\n                 horizontalalignment=\"center\",\n                 color=\"white\" if cm[i, j] > thresh else \"black\")\n\n    plt.tight_layout()\n    plt.ylabel('True label')\n    plt.xlabel('Predicted label')\n",
            "execution_count": 50,
            "outputs": []
        },
        {
            "metadata": {},
            "cell_type": "code",
            "source": "# Compute confusion matrix\ncnf_matrix = confusion_matrix(y_test, yhat_svm, labels=[0,1])\nnp.set_printoptions(precision=2)\n\nprint (classification_report(y_test, yhat_svm))\n\n# Plot non-normalized confusion matrix\nplt.figure()\nplot_confusion_matrix(cnf_matrix, classes=['1','0'],normalize= False,  title='Confusion matrix')",
            "execution_count": 51,
            "outputs": [
                {
                    "output_type": "stream",
                    "text": "              precision    recall  f1-score   support\n\n         0.0       0.85      0.94      0.89       142\n         1.0       0.36      0.18      0.24        28\n\n   micro avg       0.81      0.81      0.81       170\n   macro avg       0.60      0.56      0.57       170\nweighted avg       0.77      0.81      0.78       170\n\nConfusion matrix, without normalization\n[[133   9]\n [ 23   5]]\n",
                    "name": "stdout"
                },
                {
                    "output_type": "display_data",
                    "data": {
                        "text/plain": "<Figure size 432x288 with 2 Axes>",
                        "image/png": "[encoded data removed]"
                    },
                    "metadata": {
                        "needs_background": "light"
                    }
                }
            ]
        },
        {
            "metadata": {},
            "cell_type": "code",
            "source": "#F1 Score->\nf1_score(y_test, yhat_svm, average='weighted')",
            "execution_count": 52,
            "outputs": [
                {
                    "output_type": "execute_result",
                    "execution_count": 52,
                    "data": {
                        "text/plain": "0.7848137912883273"
                    },
                    "metadata": {}
                }
            ]
        },
        {
            "metadata": {},
            "cell_type": "code",
            "source": "#Jaccard Index->\njaccard_similarity_score(y_test, yhat_svm)",
            "execution_count": 53,
            "outputs": [
                {
                    "output_type": "execute_result",
                    "execution_count": 53,
                    "data": {
                        "text/plain": "0.8117647058823529"
                    },
                    "metadata": {}
                }
            ]
        }
    ],
    "metadata": {
        "kernelspec": {
            "name": "python3",
            "display_name": "Python 3.6",
            "language": "python"
        },
        "language_info": {
            "name": "python",
            "version": "3.6.9",
            "mimetype": "text/x-python",
            "codemirror_mode": {
                "name": "ipython",
                "version": 3
            },
            "pygments_lexer": "ipython3",
            "nbconvert_exporter": "python",
            "file_extension": ".py"
        }
    },
    "nbformat": 4,
    "nbformat_minor": 1
}